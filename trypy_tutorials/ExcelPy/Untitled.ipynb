{
 "cells": [
  {
   "cell_type": "code",
   "execution_count": null,
   "id": "0beadf5f",
   "metadata": {},
   "outputs": [],
   "source": [
    "#Tutorial Follows: https://www.datacamp.com/tutorial/python-excel-tutorial\n",
    "#I'm just adding some comments to make it more readable to an uninitiated one"
   ]
  },
  {
   "cell_type": "code",
   "execution_count": 1,
   "id": "1d4e0d62",
   "metadata": {},
   "outputs": [
    {
     "data": {
      "text/plain": [
       "<openpyxl.workbook.workbook.Workbook at 0x1e895b259c0>"
      ]
     },
     "execution_count": 1,
     "metadata": {},
     "output_type": "execute_result"
    }
   ],
   "source": [
    "import openpyxl \n",
    "\n",
    "wb = openpyxl.load_workbook('videogamesales.xlsx') #We can just load our workbook like this - like a pd df\n",
    "wb #Call the workbook to see it exists :)"
   ]
  },
  {
   "cell_type": "code",
   "execution_count": 2,
   "id": "e33550a1",
   "metadata": {},
   "outputs": [],
   "source": [
    "ws = wb.active\n",
    "#OR\n",
    "ws = wb['vgsales']\n",
    "#To load the worksheet we care about"
   ]
  },
  {
   "cell_type": "code",
   "execution_count": 4,
   "id": "b2bdd714",
   "metadata": {},
   "outputs": [
    {
     "name": "stdout",
     "output_type": "stream",
     "text": [
      "Total number of rows: 16328. And total number of columns: 10\n"
     ]
    }
   ],
   "source": [
    "print('Total number of rows: '+str(ws.max_row)+'. And total number of columns: '+str(ws.max_column))"
   ]
  },
  {
   "cell_type": "code",
   "execution_count": 5,
   "id": "3164a75d",
   "metadata": {},
   "outputs": [
    {
     "name": "stdout",
     "output_type": "stream",
     "text": [
      "The value in cell A1 is: Rank\n"
     ]
    }
   ],
   "source": [
    "print('The value in cell A1 is: '+ws['A1'].value)"
   ]
  },
  {
   "cell_type": "code",
   "execution_count": 6,
   "id": "00ef74f5",
   "metadata": {},
   "outputs": [
    {
     "name": "stdout",
     "output_type": "stream",
     "text": [
      "['Rank', 'Name', 'Platform', 'Year', 'Genre', 'Publisher', 'NA_Sales', 'EU_Sales', 'JP_Sales', 'Other_Sales']\n"
     ]
    }
   ],
   "source": [
    "values = [ws.cell(row=1,column=i).value for i in range(1,ws.max_column+1)]\n",
    "print(values)"
   ]
  },
  {
   "cell_type": "code",
   "execution_count": 7,
   "id": "3f5a5c87",
   "metadata": {},
   "outputs": [
    {
     "name": "stdout",
     "output_type": "stream",
     "text": [
      "['Wii Sports', 'Super Mario Bros.', 'Mario Kart Wii', 'Wii Sports Resort', 'Pokemon Red/Pokemon Blue', 'Tetris', 'New Super Mario Bros.', 'Wii Play', 'New Super Mario Bros. Wii', 'Duck Hunt']\n"
     ]
    }
   ],
   "source": [
    "data=[ws.cell(row=i,column=2).value for i in range(2,12)]\n",
    "print(data)"
   ]
  },
  {
   "cell_type": "code",
   "execution_count": 12,
   "id": "328c6bdf",
   "metadata": {},
   "outputs": [
    {
     "name": "stdout",
     "output_type": "stream",
     "text": [
      "[('Rank', 'Name', 'Platform', 'Year', 'Genre', 'Publisher'), (1, 'Wii Sports', 'Wii', 2006, 'Sports', 'Nintendo'), (2, 'Super Mario Bros.', 'NES', 1985, 'Platform', 'Nintendo'), (3, 'Mario Kart Wii', 'Wii', 2008, 'Racing', 'Nintendo'), (4, 'Wii Sports Resort', 'Wii', 2009, 'Sports', 'Nintendo'), (5, 'Pokemon Red/Pokemon Blue', 'GB', 1996, 'Role-Playing', 'Nintendo'), (6, 'Tetris', 'GB', 1989, 'Puzzle', 'Nintendo'), (7, 'New Super Mario Bros.', 'DS', 2006, 'Platform', 'Nintendo'), (8, 'Wii Play', 'Wii', 2006, 'Misc', 'Nintendo'), (9, 'New Super Mario Bros. Wii', 'Wii', 2009, 'Platform', 'Nintendo'), (10, 'Duck Hunt', 'NES', 1984, 'Shooter', 'Nintendo')]\n",
      "Rank    Name                               Platform  Year      Genre          Publisher      \n",
      "1       Wii Sports                         Wii       2006      Sports         Nintendo       \n",
      "2       Super Mario Bros.                  NES       1985      Platform       Nintendo       \n",
      "3       Mario Kart Wii                     Wii       2008      Racing         Nintendo       \n",
      "4       Wii Sports Resort                  Wii       2009      Sports         Nintendo       \n",
      "5       Pokemon Red/Pokemon Blue           GB        1996      Role-Playing   Nintendo       \n",
      "6       Tetris                             GB        1989      Puzzle         Nintendo       \n",
      "7       New Super Mario Bros.              DS        2006      Platform       Nintendo       \n",
      "8       Wii Play                           Wii       2006      Misc           Nintendo       \n",
      "9       New Super Mario Bros. Wii          Wii       2009      Platform       Nintendo       \n",
      "10      Duck Hunt                          NES       1984      Shooter        Nintendo       \n"
     ]
    }
   ],
   "source": [
    "# reading data from a range of cells (from column 1 to 6)\n",
    "\n",
    "my_list = list()\n",
    "\n",
    "for value in ws.iter_rows(\n",
    "    min_row=1, max_row=11, min_col=1, max_col=6, \n",
    "    values_only=True):\n",
    "    my_list.append(value)\n",
    "print(my_list)\n",
    "\n",
    "for ele1,ele2,ele3,ele4,ele5,ele6 in my_list: #ele as in element i.e. each of those brackets printed :)\n",
    "    (print (\"{:<8}{:<35}{:<10}{:<10}{:<15}{:<15}\".format(ele1,ele2,ele3,ele4,ele5,ele6)))"
   ]
  },
  {
   "cell_type": "code",
   "execution_count": 15,
   "id": "9e5615f8",
   "metadata": {},
   "outputs": [],
   "source": [
    "#If you want to write to excel files, you can, but honestly you'd only do so if you're really into this. We'll do it anyway...\n",
    "#Introducing new column 'Sum of Sales - Nothing else has changed'\n",
    "ws['K1'] = 'Sum of Sales' \n",
    "#Or\n",
    "ws.cell(row=1, column=11, value = 'Sum of Sales')\n",
    "\n",
    "#Remember to save changes made with:\n",
    "wb.save('videogamesales.xlsx') #Obvs this means you can save to new files or overwrite other files. Danger.\n",
    "#If there's an error, close excel if you have it open.."
   ]
  },
  {
   "cell_type": "code",
   "execution_count": 16,
   "id": "3feedba3",
   "metadata": {},
   "outputs": [],
   "source": [
    "row_position = 2\n",
    "col_position = 7\n",
    "\n",
    "total_sales = ((ws.cell(row=row_position, column=col_position).value)+\n",
    "               (ws.cell(row=row_position, column=col_position+1).value)+\n",
    "               (ws.cell(row=row_position, column=col_position+2).value)+\n",
    "               (ws.cell(row=row_position, column=col_position+3).value))\n",
    "\n",
    "ws.cell(row=2,column=11).value=total_sales\n",
    "wb.save('videogamesales.xlsx')\n",
    "#See what this does in your excel doc"
   ]
  },
  {
   "cell_type": "code",
   "execution_count": 17,
   "id": "719edba1",
   "metadata": {},
   "outputs": [],
   "source": [
    "#Let's do the same for every column\n",
    "row_position = 1\n",
    "\n",
    "for i in range(1, ws.max_row):\n",
    "\n",
    "    row_position += 1\n",
    "    NA_Sales = ws.cell(row=row_position, column=7).value\n",
    "    EU_Sales = ws.cell(row=row_position, column=8).value\n",
    "    JP_Sales = ws.cell(row=row_position, column=9).value\n",
    "    Other_Sales = ws.cell(row=row_position, column=10).value\n",
    "\n",
    "    total_sales = (NA_Sales + EU_Sales + JP_Sales + Other_Sales)\n",
    "    ws.cell(row=row_position, column=11).value = total_sales\n",
    "\n",
    "wb.save(\"videogamesales.xlsx\")"
   ]
  },
  {
   "cell_type": "code",
   "execution_count": 18,
   "id": "60d04c79",
   "metadata": {},
   "outputs": [],
   "source": [
    "#We can add rows too:\n",
    "new_row = (1,'The Legend of Zelda',1986,'Action','Nintendo',3.74,0.93,1.69,0.14,6.51,6.5)\n",
    "\n",
    "ws.append(new_row)\n",
    "    \n",
    "wb.save('videogamesales.xlsx')"
   ]
  },
  {
   "cell_type": "code",
   "execution_count": 19,
   "id": "7859f024",
   "metadata": {},
   "outputs": [
    {
     "name": "stdout",
     "output_type": "stream",
     "text": [
      "[1, 'The Legend of Zelda', 1986, 'Action', 'Nintendo', 3.74, 0.93, 1.69, 0.14, 6.51, 6.5]\n"
     ]
    }
   ],
   "source": [
    "#Confirm what we've done :)\n",
    "values = [ws.cell(row=ws.max_row,column=i).value for i in range(1,ws.max_column+1)]\n",
    "print(values)"
   ]
  },
  {
   "cell_type": "code",
   "execution_count": 20,
   "id": "901ef04d",
   "metadata": {},
   "outputs": [],
   "source": [
    "#Let's delete it as well. Yay\n",
    "ws.delete_rows(ws.max_row, 1) # row number, number of rows to delete\n",
    "\n",
    "wb.save('videogamesales.xlsx')"
   ]
  },
  {
   "cell_type": "code",
   "execution_count": 21,
   "id": "6b78d41d",
   "metadata": {},
   "outputs": [
    {
     "name": "stdout",
     "output_type": "stream",
     "text": [
      "[16600, 'Spirits & Spells', 'GBA', 2003, 'Platform', 'Wanadoo', 0.01, 0, 0, 0, 0.01]\n"
     ]
    }
   ],
   "source": [
    "#Confirm what we've done :)\n",
    "values = [ws.cell(row=ws.max_row,column=i).value for i in range(1,ws.max_column+1)]\n",
    "print(values)"
   ]
  },
  {
   "cell_type": "code",
   "execution_count": 23,
   "id": "d5e37c15",
   "metadata": {},
   "outputs": [],
   "source": [
    "#This seems a bit circular but we can input excel formulae in from our jupyter notebook too\n",
    "#Let's try average\n",
    "#New average column and fill:\n",
    "ws['P1'] = 'Average Sales'\n",
    "ws['P2'] = '= AVERAGE(K2:K16220)'\n",
    "\n",
    "wb.save('videogamesales.xlsx')\n",
    "#This should be around 0.19"
   ]
  },
  {
   "cell_type": "code",
   "execution_count": 24,
   "id": "8540f765",
   "metadata": {},
   "outputs": [],
   "source": [
    "#We can do a lot more. Checkout the tutorial. I just want to graph things."
   ]
  },
  {
   "cell_type": "code",
   "execution_count": 25,
   "id": "72f14c4b",
   "metadata": {},
   "outputs": [],
   "source": [
    "#Adding Charts to an Excel File with Openpyxl"
   ]
  },
  {
   "cell_type": "code",
   "execution_count": null,
   "id": "0d6682ef",
   "metadata": {},
   "outputs": [],
   "source": []
  },
  {
   "cell_type": "code",
   "execution_count": null,
   "id": "d278860a",
   "metadata": {},
   "outputs": [],
   "source": []
  }
 ],
 "metadata": {
  "kernelspec": {
   "display_name": "Python 3 (ipykernel)",
   "language": "python",
   "name": "python3"
  },
  "language_info": {
   "codemirror_mode": {
    "name": "ipython",
    "version": 3
   },
   "file_extension": ".py",
   "mimetype": "text/x-python",
   "name": "python",
   "nbconvert_exporter": "python",
   "pygments_lexer": "ipython3",
   "version": "3.10.9"
  }
 },
 "nbformat": 4,
 "nbformat_minor": 5
}
